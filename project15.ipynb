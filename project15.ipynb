{
 "cells": [
  {
   "cell_type": "code",
   "execution_count": 1,
   "metadata": {},
   "outputs": [],
   "source": [
    "import numpy as np\n",
    "import matplotlib.pyplot as plt\n",
    "\n",
    "# Parameters\n",
    "d = 0.05\n",
    "a = 0.3\n",
    "b = 0.5\n",
    "n = 1000000\n",
    "\n",
    "# Initialize arrays\n",
    "Y = np.zeros(n)\n",
    "lambda_t = np.zeros(n)\n",
    "\n",
    "# Initial values\n",
    "lambda_t[0] = d / (1 - a - b)\n",
    "Y[0] = np.random.poisson(lambda_t[0])\n",
    "\n",
    "# Simulate the process\n",
    "for t in range(1, n):\n",
    "    lambda_t[t] = d + a * lambda_t[t-1] + b * Y[t-1]\n",
    "    Y[t] = np.random.poisson(lambda_t[t])\n",
    "\n",
    "# Theoretical expectation and variance\n",
    "mu_theoretical = d / (1 - a - b)\n",
    "var_lambda_t_theoretical = (b**2 * d) / ((1 - a - b) * (1 - (a+b)**2))\n",
    "var_Y_t_theoretical = mu_theoretical + var_lambda_t_theoretical\n",
    "\n",
    "# Simulated expectation and variance\n",
    "mu_lambda_t_simulated = np.mean(lambda_t)\n",
    "var_lambda_t_simulated = np.var(lambda_t)\n",
    "mu_Y_t_simulated = np.mean(Y)\n",
    "var_Y_t_simulated = np.var(Y)\n",
    "\n",
    "# Simulated covariance\n",
    "cov_matrix = np.cov(Y[:-1], Y[1:])\n",
    "cov_Y_t_simulated = cov_matrix[0, 1]"
   ]
  },
  {
   "cell_type": "code",
   "execution_count": 2,
   "metadata": {},
   "outputs": [
    {
     "name": "stdout",
     "output_type": "stream",
     "text": [
      "0.25029311224489803 0.25041 0.25000000000000006\n",
      "0.17342636226942512 0.17361111111111124\n",
      "0.4234448319000002 0.42361111111111127\n"
     ]
    }
   ],
   "source": [
    "print(mu_lambda_t_simulated, mu_Y_t_simulated, mu_theoretical)\n",
    "print(var_lambda_t_simulated, var_lambda_t_theoretical)\n",
    "print(var_Y_t_simulated, var_Y_t_theoretical)"
   ]
  },
  {
   "cell_type": "code",
   "execution_count": 3,
   "metadata": {},
   "outputs": [
    {
     "name": "stdout",
     "output_type": "stream",
     "text": [
      "solution: a = 0.29728250816700924, b = 0.5008375387428097, d = 0.05055275906533671\n"
     ]
    }
   ],
   "source": [
    "from scipy.optimize import fsolve\n",
    "\n",
    "# define functions\n",
    "def equations(vars):\n",
    "    x, y, z = vars\n",
    "    eq1 = z/(1-x-y) - mu_Y_t_simulated\n",
    "    eq2 = z/(1-x-y) * (1 + y**2/(1-(x+y)**2)) - var_Y_t_simulated\n",
    "    eq3 = x * z/(1-x-y) * (y**2/(1-(x+y)**2)) + y * z/(1-x-y) * (1 + y**2/(1-(x+y)**2)) - cov_Y_t_simulated\n",
    "    return [eq1, eq2, eq3]\n",
    "\n",
    "# initial guess\n",
    "initial_guess = [0.05, 0.63, 0.05]\n",
    "\n",
    "# use fsolve to solve equation\n",
    "solution = fsolve(equations, initial_guess)\n",
    "\n",
    "print(\"solution: a = {}, b = {}, d = {}\".format(solution[0], solution[1], solution[2]))\n"
   ]
  },
  {
   "cell_type": "code",
   "execution_count": 4,
   "metadata": {},
   "outputs": [
    {
     "name": "stdout",
     "output_type": "stream",
     "text": [
      "5.956235504811502e-11 1.1356776630222498e-10 7.322037420820493e-11\n"
     ]
    }
   ],
   "source": [
    "x,y,z = solution\n",
    "eq1 = z/(1-x-y) - mu_Y_t_simulated\n",
    "eq2 = z/(1-x-y) * (1 + y**2/(1-(x+y)**2)) - var_Y_t_simulated\n",
    "eq3 = x * z/(1-x-y) * (y**2/(1-(x+y)**2)) + y * z/(1-x-y) * (1 + y**2/(1-(x+y)**2)) - cov_Y_t_simulated\n",
    "print(eq1, eq2, eq3)"
   ]
  },
  {
   "cell_type": "code",
   "execution_count": 5,
   "metadata": {},
   "outputs": [
    {
     "name": "stdout",
     "output_type": "stream",
     "text": [
      "320000\n",
      "[0.29851047 0.49862395 0.05090151]\n"
     ]
    }
   ],
   "source": [
    "for n in range(10000,10000000,10000):\n",
    "    Y = np.zeros(n)\n",
    "    lambda_t = np.zeros(n)\n",
    "\n",
    "    # Initial values\n",
    "    lambda_t[0] = d / (1 - a - b)\n",
    "    Y[0] = np.random.poisson(lambda_t[0])\n",
    "\n",
    "    # Simulate the process\n",
    "    for t in range(1, n):\n",
    "        lambda_t[t] = d + a * lambda_t[t-1] + b * Y[t-1]\n",
    "        Y[t] = np.random.poisson(lambda_t[t])\n",
    "\n",
    "    # Theoretical expectation and variance\n",
    "    mu_theoretical = d / (1 - a - b)\n",
    "    var_lambda_t_theoretical = (b**2 * d) / ((1 - a - b) * (1 - (a+b)**2))\n",
    "    var_Y_t_theoretical = mu_theoretical + var_lambda_t_theoretical\n",
    "\n",
    "    # Simulated expectation and variance\n",
    "    mu_lambda_t_simulated = np.mean(lambda_t)\n",
    "    var_lambda_t_simulated = np.var(lambda_t)\n",
    "    mu_Y_t_simulated = np.mean(Y)\n",
    "    var_Y_t_simulated = np.var(Y)\n",
    "\n",
    "    # Simulated covariance\n",
    "    cov_matrix = np.cov(Y[:-1], Y[1:])\n",
    "    cov_Y_t_simulated = cov_matrix[0, 1]\n",
    "\n",
    "    initial_guess = [0.05, 0.63, 0.05]\n",
    "\n",
    "    # use fsolve to solve equation\n",
    "    solution = fsolve(equations, initial_guess)\n",
    "    if (a-solution[0])**2 + (b-solution[1])**2 + (d-solution[2])**2 <= 0.00001:\n",
    "        break\n",
    "print(n)\n",
    "print(solution)"
   ]
  },
  {
   "cell_type": "markdown",
   "metadata": {},
   "source": [
    "## Part 2"
   ]
  },
  {
   "cell_type": "code",
   "execution_count": 6,
   "metadata": {},
   "outputs": [],
   "source": [
    "# Parameters\n",
    "d = 0.05\n",
    "a = 0.25\n",
    "b_1 = 0.35\n",
    "b_2 = 0.45\n",
    "n = 100000\n",
    "# Initialize arrays\n",
    "Y = np.zeros(n)\n",
    "lambda_t = np.zeros(n)\n",
    "\n",
    "# Initial values\n",
    "lambda_t[0] = d * (1+a+b_1) / (1 - (a+b_1) * (a+b_2))\n",
    "Y[0] = np.random.poisson(lambda_t[0])\n",
    "\n",
    "# Simulate the process\n",
    "for t in range(1, n):\n",
    "    if t % 2 == 1:\n",
    "        lambda_t[t] = d + a * lambda_t[t-1] + b_2 * Y[t-1]\n",
    "    else:\n",
    "        lambda_t[t] = d + a * lambda_t[t-1] + b_1 * Y[t-1]\n",
    "    Y[t] = np.random.poisson(lambda_t[t])\n",
    "\n",
    "\n",
    "# Simulated expectation and variance\n",
    "mu_lambda_t_simulated = np.mean(lambda_t)\n",
    "var_lambda_t_simulated = np.var(lambda_t)\n",
    "mu_Y_t_simulated = np.mean(Y)\n",
    "var_Y_t_simulated = np.var(Y)\n"
   ]
  },
  {
   "cell_type": "code",
   "execution_count": 7,
   "metadata": {},
   "outputs": [
    {
     "data": {
      "text/plain": [
       "[<matplotlib.lines.Line2D at 0x26be74ef730>]"
      ]
     },
     "execution_count": 7,
     "metadata": {},
     "output_type": "execute_result"
    },
    {
     "data": {
      "image/png": "[encoded data removed]",
      "text/plain": [
       "<Figure size 640x480 with 1 Axes>"
      ]
     },
     "metadata": {},
     "output_type": "display_data"
    }
   ],
   "source": [
    "\n",
    "plt.plot(lambda_t,'r')"
   ]
  },
  {
   "cell_type": "code",
   "execution_count": 8,
   "metadata": {},
   "outputs": [
    {
     "data": {
      "text/plain": [
       "[<matplotlib.lines.Line2D at 0x26be7a8da90>]"
      ]
     },
     "execution_count": 8,
     "metadata": {},
     "output_type": "execute_result"
    },
    {
     "data": {
      "image/png": "[encoded data removed]",
      "text/plain": [
       "<Figure size 640x480 with 1 Axes>"
      ]
     },
     "metadata": {},
     "output_type": "display_data"
    }
   ],
   "source": [
    "plt.plot(Y,'b')"
   ]
  },
  {
   "cell_type": "code",
   "execution_count": 9,
   "metadata": {},
   "outputs": [
    {
     "name": "stdout",
     "output_type": "stream",
     "text": [
      "0.14166694905224791 0.14117\n",
      "0.03897193950975506 0.18006103109999996\n"
     ]
    }
   ],
   "source": [
    "print(mu_lambda_t_simulated, mu_Y_t_simulated)\n",
    "print(var_lambda_t_simulated, var_Y_t_simulated)"
   ]
  },
  {
   "cell_type": "code",
   "execution_count": 10,
   "metadata": {},
   "outputs": [
    {
     "name": "stdout",
     "output_type": "stream",
     "text": [
      "0.1459147796208992 0.14554\n",
      "0.13741911848359672 0.1368\n"
     ]
    }
   ],
   "source": [
    "print(np.mean(lambda_t[1::2]), np.mean(Y[1::2]))\n",
    "print(np.mean(lambda_t[0::2]), np.mean(Y[0::2]))\n"
   ]
  },
  {
   "cell_type": "markdown",
   "metadata": {},
   "source": [
    "## Part 3"
   ]
  },
  {
   "cell_type": "code",
   "execution_count": 11,
   "metadata": {},
   "outputs": [],
   "source": [
    "# Parameters\n",
    "d = 0.05\n",
    "a = 0.25\n",
    "b = 0.4\n",
    "per = [0.6, 0.9]\n",
    "n = 100000\n",
    "# Initialize arrays\n",
    "Y = np.zeros(n)\n",
    "lambda_t = np.zeros(n)\n",
    "\n",
    "# Initial values\n",
    "lambda_t[0] = d / (1 - a - b)\n",
    "Y[0] = np.random.poisson(lambda_t[0])\n",
    "\n",
    "# Simulate the process\n",
    "for t in range(1, n):\n",
    "    if t % 2 == 1:\n",
    "        lambda_t[t] = (d + a * lambda_t[t-1] + b * Y[t-1]) * per[1]\n",
    "    else:\n",
    "        lambda_t[t] = (d + a * lambda_t[t-1] + b * Y[t-1]) * per[0]\n",
    "    Y[t] = np.random.poisson(lambda_t[t])\n",
    "\n",
    "\n",
    "# Simulated expectation and variance\n",
    "mu_lambda_t_simulated = np.mean(lambda_t)\n",
    "var_lambda_t_simulated = np.var(lambda_t)\n",
    "mu_Y_t_simulated = np.mean(Y)\n",
    "var_Y_t_simulated = np.var(Y)"
   ]
  },
  {
   "cell_type": "code",
   "execution_count": 12,
   "metadata": {},
   "outputs": [
    {
     "name": "stdout",
     "output_type": "stream",
     "text": [
      "0.07191687874563395 0.073\n",
      "0.008507431586168158 0.082151\n"
     ]
    }
   ],
   "source": [
    "print(mu_lambda_t_simulated, mu_Y_t_simulated)\n",
    "print(var_lambda_t_simulated, var_Y_t_simulated)"
   ]
  },
  {
   "cell_type": "code",
   "execution_count": 13,
   "metadata": {},
   "outputs": [
    {
     "name": "stdout",
     "output_type": "stream",
     "text": [
      "0.08164979219227371 0.08306\n",
      "0.062183965298994205 0.06294\n"
     ]
    }
   ],
   "source": [
    "print(np.mean(lambda_t[1::2]), np.mean(Y[1::2]))\n",
    "print(np.mean(lambda_t[0::2]), np.mean(Y[0::2]))\n"
   ]
  },
  {
   "cell_type": "code",
   "execution_count": null,
   "metadata": {},
   "outputs": [],
   "source": []
  }
 ],
 "metadata": {
  "kernelspec": {
   "display_name": "Python 3 (ipykernel)",
   "language": "python",
   "name": "python3"
  },
  "language_info": {
   "codemirror_mode": {
    "name": "ipython",
    "version": 3
   },
   "file_extension": ".py",
   "mimetype": "text/x-python",
   "name": "python",
   "nbconvert_exporter": "python",
   "pygments_lexer": "ipython3",
   "version": "3.9.13"
  }
 },
 "nbformat": 4,
 "nbformat_minor": 2
}
